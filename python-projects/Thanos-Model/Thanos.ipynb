{
 "cells": [
  {
   "cell_type": "markdown",
   "id": "93e6bca2",
   "metadata": {},
   "source": [
    "## Thanos Model"
   ]
  },
  {
   "cell_type": "code",
   "execution_count": 1,
   "id": "7fb035ac",
   "metadata": {},
   "outputs": [],
   "source": [
    "import os\n",
    "import random"
   ]
  },
  {
   "cell_type": "code",
   "execution_count": 2,
   "id": "a3d0649b",
   "metadata": {},
   "outputs": [],
   "source": [
    "def get_list_of_all_data(path):\n",
    "    return os.listdir(path)"
   ]
  },
  {
   "cell_type": "code",
   "execution_count": 3,
   "id": "6dc4ef8f",
   "metadata": {},
   "outputs": [],
   "source": [
    "def run_thanos(path):\n",
    "    len_of_data_will_be_removed = int(len(get_list_of_all_data(path)) / 2)\n",
    "    for i in range(len_of_data_will_be_removed):\n",
    "        universe = get_list_of_all_data(path)\n",
    "        os.remove(path+ random.choice(universe))"
   ]
  },
  {
   "cell_type": "markdown",
   "id": "0ad340de",
   "metadata": {},
   "source": [
    "### Before Run Thanos"
   ]
  },
  {
   "cell_type": "code",
   "execution_count": 4,
   "id": "f5353899",
   "metadata": {},
   "outputs": [
    {
     "name": "stdout",
     "output_type": "stream",
     "text": [
      "['cover001.png', 'cover002.png', 'cover003.png', 'cover004.png', 'cover005.png', 'cover006.png', 'cover007.png', 'cover008.png', 'cover009.png', 'cover010.png', 'cover011.png', 'cover012.png', 'cover013.png', 'cover014.png', 'cover015.png', 'cover016.png', 'cover017.png', 'cover018.png', 'cover019.png', 'cover020.png', 'cover021.png', 'cover022.png', 'cover023.png', 'cover024.png', 'cover025.png', 'cover026.png', 'cover027.png', 'cover028.png', 'cover029.png', 'cover030.png', 'cover031.png', 'cover032.png', 'cover033.png', 'cover034.png', 'cover035.png', 'cover036.png', 'cover037.png', 'cover038.png', 'cover039.png', 'cover040.png', 'cover041.png', 'cover042.png', 'cover043.png', 'cover044.png', 'cover045.png', 'cover046.png', 'cover047.png', 'cover048.png', 'cover049.png', 'cover050.png']\n"
     ]
    }
   ],
   "source": [
    "print(get_list_of_all_data('Universe/'))"
   ]
  },
  {
   "cell_type": "code",
   "execution_count": 5,
   "id": "fc462cf8",
   "metadata": {},
   "outputs": [
    {
     "name": "stdout",
     "output_type": "stream",
     "text": [
      "50\n"
     ]
    }
   ],
   "source": [
    "print(len(get_list_of_all_data('Universe/')))"
   ]
  },
  {
   "cell_type": "markdown",
   "id": "836932f2",
   "metadata": {},
   "source": [
    "### After Run Thanos"
   ]
  },
  {
   "cell_type": "code",
   "execution_count": 6,
   "id": "f3c6b17d",
   "metadata": {},
   "outputs": [],
   "source": [
    "run_thanos('Universe/')"
   ]
  },
  {
   "cell_type": "code",
   "execution_count": 7,
   "id": "09be2325",
   "metadata": {},
   "outputs": [
    {
     "name": "stdout",
     "output_type": "stream",
     "text": [
      "['cover002.png', 'cover004.png', 'cover006.png', 'cover007.png', 'cover008.png', 'cover009.png', 'cover010.png', 'cover012.png', 'cover014.png', 'cover015.png', 'cover016.png', 'cover019.png', 'cover020.png', 'cover021.png', 'cover024.png', 'cover027.png', 'cover028.png', 'cover030.png', 'cover031.png', 'cover036.png', 'cover037.png', 'cover038.png', 'cover039.png', 'cover045.png', 'cover048.png']\n"
     ]
    }
   ],
   "source": [
    "print(get_list_of_all_data('Universe/'))"
   ]
  },
  {
   "cell_type": "code",
   "execution_count": 8,
   "id": "fb8f6f25",
   "metadata": {},
   "outputs": [
    {
     "name": "stdout",
     "output_type": "stream",
     "text": [
      "25\n"
     ]
    }
   ],
   "source": [
    "print(len(get_list_of_all_data('Universe/')))"
   ]
  }
 ],
 "metadata": {
  "kernelspec": {
   "display_name": "Python 3",
   "language": "python",
   "name": "python3"
  },
  "language_info": {
   "codemirror_mode": {
    "name": "ipython",
    "version": 3
   },
   "file_extension": ".py",
   "mimetype": "text/x-python",
   "name": "python",
   "nbconvert_exporter": "python",
   "pygments_lexer": "ipython3",
   "version": "3.8.8"
  }
 },
 "nbformat": 4,
 "nbformat_minor": 5
}
