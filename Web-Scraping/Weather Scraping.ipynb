{
 "cells": [
  {
   "cell_type": "markdown",
   "metadata": {},
   "source": [
    "<h3> Scrap the weather temperature, humidity, visibility, air pressure, wind speed, datetime data from this website</h3> <br> <a href=\"https://eg.freemeteo.com/weather/cairo/current-weather/location/?gid=360630&language=english&country=egypt\">Weather Site</a> \n",
    "<br> for 10 times one read in a minute (so basicly the process takes 10 minutes)\n",
    "and put them into a CSV file.\n"
   ]
  },
  {
   "cell_type": "code",
   "execution_count": 1,
   "metadata": {},
   "outputs": [],
   "source": [
    "import requests\n",
    "from bs4 import BeautifulSoup\n",
    "import time\n",
    "from datetime import datetime\n",
    "import csv"
   ]
  },
  {
   "cell_type": "code",
   "execution_count": 2,
   "metadata": {},
   "outputs": [],
   "source": [
    "def generate_weather_scraping(writer):\n",
    "    url='https://eg.freemeteo.com/weather/cairo/current-weather/location/?gid=360630&language=english&country=egypt'\n",
    "    response = requests.request('GET',url)\n",
    "    soup = BeautifulSoup(response.content, 'html.parser')\n",
    "    temperature = soup.find('div', attrs={'class': 'temp'}).get_text().split('°C')[0]\n",
    "    wind_speed =soup.find('div', attrs={'class': 'wind'}).find('b').get_text().strip()\n",
    "    pressure = soup.find('div', attrs={'class': 'stats'}).get_text().split()[-1].split('mb')[0]\n",
    "    humidity = soup.find('div', attrs={'class': 'stats'}).get_text().split()[2].split('%')[0]\n",
    "    visibility =soup.find('div', attrs={'class': 'stats'}).get_text().split()[6].split('m')[0]\n",
    "    time_now = datetime.now().strftime(\"%d/%m/%Y, %H:%M:%S\")\n",
    "    writer.writerow({'temperature': temperature, 'wind_speed': wind_speed, 'pressure': pressure, 'humidity': humidity, 'visibility': visibility, 'time_now': time_now})"
   ]
  },
  {
   "cell_type": "code",
   "execution_count": 3,
   "metadata": {
    "scrolled": true
   },
   "outputs": [
    {
     "name": "stdout",
     "output_type": "stream",
     "text": [
      "Scrap weather for minute no : 1\n",
      "Scrap weather for minute no : 2\n",
      "Scrap weather for minute no : 3\n",
      "Scrap weather for minute no : 4\n",
      "Scrap weather for minute no : 5\n",
      "Scrap weather for minute no : 6\n",
      "Scrap weather for minute no : 7\n",
      "Scrap weather for minute no : 8\n",
      "Scrap weather for minute no : 9\n",
      "Scrap weather for minute no : 10\n"
     ]
    }
   ],
   "source": [
    "with open('weather.csv', 'w') as f:\n",
    "    writer = csv.DictWriter(f, fieldnames=[ 'time_now','temperature', 'wind_speed', 'pressure', 'humidity', 'visibility'])\n",
    "    writer.writeheader()\n",
    "    count=1\n",
    "    while count != 11 :\n",
    "        print(f'Scrap weather for minute no : {count}')\n",
    "        generate_weather_scraping(writer)\n",
    "        time.sleep(60)\n",
    "        count =count+1"
   ]
  },
  {
   "cell_type": "markdown",
   "metadata": {},
   "source": [
    "## End Work!\n",
    "### By Abdulla Elshourbagy."
   ]
  }
 ],
 "metadata": {
  "kernelspec": {
   "display_name": "Python 3",
   "language": "python",
   "name": "python3"
  },
  "language_info": {
   "codemirror_mode": {
    "name": "ipython",
    "version": 3
   },
   "file_extension": ".py",
   "mimetype": "text/x-python",
   "name": "python",
   "nbconvert_exporter": "python",
   "pygments_lexer": "ipython3",
   "version": "3.8.8"
  }
 },
 "nbformat": 4,
 "nbformat_minor": 2
}
